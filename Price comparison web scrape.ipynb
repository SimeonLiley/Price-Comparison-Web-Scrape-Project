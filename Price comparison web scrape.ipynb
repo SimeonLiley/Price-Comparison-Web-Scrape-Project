{
 "cells": [
  {
   "cell_type": "code",
   "execution_count": 1,
   "id": "3c99c274",
   "metadata": {},
   "outputs": [],
   "source": [
    "# import libraries\n",
    "\n",
    "import csv\n",
    "import requests\n",
    "import time\n",
    "import datetime\n",
    "import pandas as pd\n",
    "from bs4 import BeautifulSoup\n",
    "\n",
    "# for email functionality\n",
    "import smtplib"
   ]
  },
  {
   "cell_type": "code",
   "execution_count": 2,
   "id": "4d4c027e",
   "metadata": {},
   "outputs": [],
   "source": [
    "# Connect to the first target Website URL and pull in data\n",
    "\n",
    "URL1 = 'https://www.amazon.co.uk/Nintendo-Switch-Pokemon-Violet-Pok%C3%A9mon-Violet-Switch/dp/B0B2X4BMV2/ref=sr_1_1?crid=7ILLBVLK4WC&keywords=pokemon+violet&qid=1679752151&sprefix=pokemon+vio%2Caps%2C162&sr=8-1'\n",
    "# user agent found from https://httpbin.org/get\n",
    "headers = {\"User-Agent\": \"Mozilla/5.0 (Windows NT 10.0; Win64; x64) AppleWebKit/537.36 (KHTML, like Gecko) Chrome/111.0.0.0 Safari/537.36\", \"Accept-Encoding\":\"gzip, deflate\", \"Accept\":\"text/html,application/xhtml+xml,application/xml;q=0.9,*/*;q=0.8\", \"DNT\":\"1\",\"Connection\":\"close\", \"Upgrade-Insecure-Requests\":\"1\"}\n",
    "\n",
    "page1 = requests.get(URL1, headers=headers) # request data from specified URL\n",
    "\n",
    "page1_code = BeautifulSoup(page1.content, \"html.parser\") # pulling in html content from page\n",
    "\n",
    "page1_code = BeautifulSoup(page1_code.prettify()) # prettify formatting of page_code html data\n",
    "\n",
    "title = page1_code.find(id=\"productTitle\").get_text() # find the product title by searching for the element id\n",
    "price1_pounds = page1_code.find(\"span\", {\"class\": \"a-price-whole\"}).get_text() # price is split into pounds and pence - find the price by searching for the class as no id present\n",
    "price1_pence = page1_code.find(\"span\", {\"class\": \"a-price-fraction\"}).get_text()\n"
   ]
  },
  {
   "cell_type": "code",
   "execution_count": 3,
   "id": "e95df80c",
   "metadata": {},
   "outputs": [],
   "source": [
    "# Connect to the second target Website URL and pull in data\n",
    "\n",
    "URL2 = 'https://www.game.co.uk/en/pok-mon-violet-2878152'\n",
    " \n",
    "page2 = requests.get(URL2, headers=headers) # request data from specified URL\n",
    "\n",
    "page2_code = BeautifulSoup(page2.content, \"html.parser\") # pulling in html content from page\n",
    "\n",
    "page2_code = BeautifulSoup(page2_code.prettify()) # prettify formatting of page_code html data\n",
    " \n",
    "price2 = page2_code.find(\"strong\", {\"class\": \"btnPrice\"}).get_text()  # find the product sell price by searching for the element class\n",
    " "
   ]
  },
  {
   "cell_type": "code",
   "execution_count": 4,
   "id": "e830baee",
   "metadata": {},
   "outputs": [],
   "source": [
    "# tidy data removing enpty space to be ready to import to csv file\n",
    "title = title.strip()\n",
    "price1_pounds = price1_pounds.strip()\n",
    "price1_pounds = price1_pounds.replace(\" \", \"\") # price_pounds has more white space to remove because of a nested element\n",
    "price1_pounds = price1_pounds.replace(\"\\n\", \"\")\n",
    "price1_pence = price1_pence.strip()\n",
    "total_price1 = price1_pounds + price1_pence # concatenate price\n",
    "\n",
    "price2 = price2.strip()\n",
    "price2 = price2.replace(\"£\", \"\")\n",
    "\n",
    "date_of_scrape = datetime.date.today() # date scrape occoured"
   ]
  },
  {
   "cell_type": "code",
   "execution_count": 5,
   "id": "68efd371",
   "metadata": {},
   "outputs": [],
   "source": [
    "# calculate price difference and which retailer is cheapest\n",
    "price_difference = float(total_price1) - float(price2) # calculate price difference\n",
    "\n",
    "cheapest_retailer = \"\" # variable declaration to store name of cheapest retailer \n",
    "if price_difference < 0: # find out which retailer is cheaper\n",
    "    cheapest_retailer = \"Amazon\"\n",
    "    price_difference = float(price2) - float(total_price1) # if Game is the cheapest retailer redefine prcie_difference so the value is positive\n",
    "elif price_difference > 0:\n",
    "    cheapest_retailer = \"Gane\"\n",
    "else:\n",
    "    cheapest_retailer = \"Same price\" \n",
    "\n",
    "price_difference = round(price_difference, 2) # Round the price difference to two decimal places\n"
   ]
  },
  {
   "cell_type": "code",
   "execution_count": 6,
   "id": "76f9b17a",
   "metadata": {},
   "outputs": [
    {
     "data": {
      "text/plain": [
       "' \\n# create csv file - this only needs to be run once, to create the initial file, further addition to file is handled later so commented out so as not to accidentally overwrite additional file data\\nwith open(\"PriceComparisonDataset.csv\", \"w\", newline=\"\", encoding=\"UTF8\") as f:\\n    writer = csv.writer(f)\\n    writer.writerow(header) # write column headdings in first row\\n    writer.writerow(data) # write data in next row below headings\\n '"
      ]
     },
     "execution_count": 6,
     "metadata": {},
     "output_type": "execute_result"
    }
   ],
   "source": [
    "# declare variables for csv file data\n",
    "header = [\"Title\", \"Price at Amazon\", \"Price at Game\", \"Price difference\", \"Cheapest Retailer\", \"Date of Scrape\"] # column headings \n",
    "data = [title, total_price1, price2, price_difference, cheapest_retailer, date_of_scrape] # row data\n",
    "\"\"\" \n",
    "# create csv file - this only needs to be run once, to create the initial file, further addition to file is handled later so commented out so as not to accidentally overwrite additional file data\n",
    "with open(\"PriceComparisonDataset.csv\", \"w\", newline=\"\", encoding=\"UTF8\") as f:\n",
    "    writer = csv.writer(f)\n",
    "    writer.writerow(header) # write column headdings in first row\n",
    "    writer.writerow(data) # write data in next row below headings\n",
    " \"\"\""
   ]
  },
  {
   "cell_type": "code",
   "execution_count": 7,
   "id": "eab7c4d0",
   "metadata": {},
   "outputs": [
    {
     "name": "stdout",
     "output_type": "stream",
     "text": [
      "                              Title  Price at Amazon  Price at Game  \\\n",
      "0  Pokémon Violet (Nintendo Switch)            39.64          39.99   \n",
      "1  Pokémon Violet (Nintendo Switch)            39.64          39.99   \n",
      "2  Pokémon Violet (Nintendo Switch)            39.64          39.99   \n",
      "3  Pokémon Violet (Nintendo Switch)            39.64          39.99   \n",
      "4  Pokémon Violet (Nintendo Switch)            39.64          39.99   \n",
      "5  Pokémon Violet (Nintendo Switch)            39.64          39.99   \n",
      "\n",
      "   Price difference Cheapest Retailer Date of Scrape  \n",
      "0              0.35            Amazon     2023-03-25  \n",
      "1              0.35            Amazon     2023-03-25  \n",
      "2              0.35            Amazon     2023-03-25  \n",
      "3              0.35            Amazon     2023-03-25  \n",
      "4              0.35            Amazon     2023-03-25  \n",
      "5              0.35            Amazon     2023-03-25  \n"
     ]
    }
   ],
   "source": [
    "data_frame = pd.read_csv(r\"C:\\Users\\Simeon\\Documents\\Data Science\\Price comparison web scrape\\PriceComparisonDataset.csv\")\n",
    "\n",
    "print(data_frame)\n"
   ]
  },
  {
   "cell_type": "code",
   "execution_count": 8,
   "id": "a0215892",
   "metadata": {},
   "outputs": [],
   "source": [
    "# combine code into a function which we can automate\n",
    "\n",
    "def price_comparison():\n",
    "    # Connect to the first target Website URL and pull in data\n",
    "    URL1 = 'https://www.amazon.co.uk/Nintendo-Switch-Pokemon-Violet-Pok%C3%A9mon-Violet-Switch/dp/B0B2X4BMV2/ref=sr_1_1?crid=7ILLBVLK4WC&keywords=pokemon+violet&qid=1679752151&sprefix=pokemon+vio%2Caps%2C162&sr=8-1'\n",
    "    headers = {\"User-Agent\": \"Mozilla/5.0 (Windows NT 10.0; Win64; x64) AppleWebKit/537.36 (KHTML, like Gecko) Chrome/111.0.0.0 Safari/537.36\", \"Accept-Encoding\":\"gzip, deflate\", \"Accept\":\"text/html,application/xhtml+xml,application/xml;q=0.9,*/*;q=0.8\", \"DNT\":\"1\",\"Connection\":\"close\", \"Upgrade-Insecure-Requests\":\"1\"}\n",
    "\n",
    "    page1 = requests.get(URL1, headers=headers) # request data from specified URL\n",
    "    page1_code = BeautifulSoup(page1.content, \"html.parser\") # pulling in html content from page\n",
    "    page1_code = BeautifulSoup(page1_code.prettify()) # prettify formatting of page_code html data\n",
    "\n",
    "    title = page1_code.find(id=\"productTitle\").get_text() # find the product title by searching for the element id\n",
    "    price1_pounds = page1_code.find(\"span\", {\"class\": \"a-price-whole\"}).get_text() # price is split into pounds and pence - find the price by searching for the class as no id present\n",
    "    price1_pence = page1_code.find(\"span\", {\"class\": \"a-price-fraction\"}).get_text()\n",
    "\n",
    "    # Connect to the second target Website URL and pull in data\n",
    "\n",
    "    URL2 = 'https://www.game.co.uk/en/pok-mon-violet-2878152'\n",
    "\n",
    "    page2 = requests.get(URL2, headers=headers) # request data from specified URL\n",
    "    page2_code = BeautifulSoup(page2.content, \"html.parser\") # pulling in html content from page\n",
    "    page2_code = BeautifulSoup(page2_code.prettify()) # prettify formatting of page_code html data\n",
    "\n",
    "    price2 = page2_code.find(\"strong\", {\"class\": \"btnPrice\"}).get_text()  # find the product sell price by searching for the element class\n",
    "\n",
    "\n",
    "    # tidy data removing enpty space to be ready to import to csv file\n",
    "    title = title.strip()\n",
    "    price1_pounds = price1_pounds.strip()\n",
    "    price1_pounds = price1_pounds.replace(\" \", \"\") # price_pounds has more white space to remove because of a nested element\n",
    "    price1_pounds = price1_pounds.replace(\"\\n\", \"\")\n",
    "    price1_pence = price1_pence.strip()\n",
    "    total_price1 = price1_pounds + price1_pence # concatenate price\n",
    "\n",
    "    price2 = price2.strip()\n",
    "    price2 = price2.replace(\"£\", \"\")\n",
    "\n",
    "    date_of_scrape = datetime.date.today() # date scrape occoured\n",
    "    \n",
    "    # calculate price difference and which retailer is cheapest\n",
    "    price_difference = float(total_price1) - float(price2) # calculate price difference\n",
    "    cheapest_retailer = \"\" # variable declaration to store name of cheapest retailer \n",
    "\n",
    "    if price_difference < 0: # find out which retailer is cheaper\n",
    "        cheapest_retailer = \"Amazon\"\n",
    "        price_difference = float(price2) - float(total_price1) # if Game is the cheapest retailer redefine prcie_difference so the value is positive\n",
    "    elif price_difference > 0:\n",
    "        cheapest_retailer = \"Gane\"\n",
    "    else:\n",
    "        cheapest_retailer = \"Same price\" \n",
    "\n",
    "    price_difference = round(price_difference, 2) # Round the price difference to two decimal places\n",
    "\n",
    "    # declare variables for csv file data\n",
    "    header = [\"Title\", \"Price at Amazon\", \"Price at Game\", \"Price difference\", \"Cheapest Retailer\", \"Date of Scrape\"] # column headings \n",
    "    data = [title, total_price1, price2, price_difference, cheapest_retailer, date_of_scrape] # row data\n",
    "    \n",
    "    # append data to the csv to track price changes over time\n",
    "    with open(\"PriceComparisonDataset.csv\", \"a+\", newline=\"\", encoding=\"UTF8\") as f:  # write data in the next avaliable row - appends to new row \"a+\" argument\n",
    "        writer = csv.writer(f)\n",
    "        writer.writerow(data) "
   ]
  },
  {
   "cell_type": "code",
   "execution_count": null,
   "id": "4737b2d8",
   "metadata": {},
   "outputs": [],
   "source": [
    "# automate price_comparison to run once per day\n",
    "while(True):\n",
    "    price_comparison()\n",
    "    time.sleep(86400)"
   ]
  },
  {
   "cell_type": "code",
   "execution_count": null,
   "id": "0767bc4a",
   "metadata": {},
   "outputs": [],
   "source": []
  }
 ],
 "metadata": {
  "kernelspec": {
   "display_name": "Python 3 (ipykernel)",
   "language": "python",
   "name": "python3"
  },
  "language_info": {
   "codemirror_mode": {
    "name": "ipython",
    "version": 3
   },
   "file_extension": ".py",
   "mimetype": "text/x-python",
   "name": "python",
   "nbconvert_exporter": "python",
   "pygments_lexer": "ipython3",
   "version": "3.10.9"
  }
 },
 "nbformat": 4,
 "nbformat_minor": 5
}
